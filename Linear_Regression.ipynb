{
  "nbformat": 4,
  "nbformat_minor": 0,
  "metadata": {
    "colab": {
      "name": "Linear Regression",
      "version": "0.3.2",
      "provenance": [],
      "collapsed_sections": [],
      "include_colab_link": true
    },
    "kernelspec": {
      "name": "python3",
      "display_name": "Python 3"
    }
  },
  "cells": [
    {
      "cell_type": "markdown",
      "metadata": {
        "id": "view-in-github",
        "colab_type": "text"
      },
      "source": [
        "<a href=\"https://colab.research.google.com/github/iamarpan/codingPractice/blob/master/Linear_Regression.ipynb\" target=\"_parent\"><img src=\"https://colab.research.google.com/assets/colab-badge.svg\" alt=\"Open In Colab\"/></a>"
      ]
    },
    {
      "cell_type": "code",
      "metadata": {
        "id": "45d2H13rU_KN",
        "colab_type": "code",
        "colab": {}
      },
      "source": [
        "import pandas as pd\n",
        "import numpy as np\n",
        "import matplotlib.pyplot as plt\n",
        "\n",
        "def dataPreparation():\n",
        "  raw_dataset = \"https://raw.githubusercontent.com/iamarpan/linear-regression/master/data.csv\"\n",
        "  dataset = pd.read_csv(raw_dataset,names=[\"house size\",\"house prize\"])\n",
        "  X = np.array(dataset[\"house size\"]).reshape(100,1)\n",
        "  Y = np.array(dataset[\"house prize\"]).reshape(100,1)\n",
        "  X = np.c_[np.ones((100,1)),X]\n",
        "  return [X.T,Y]"
      ],
      "execution_count": 0,
      "outputs": []
    },
    {
      "cell_type": "code",
      "metadata": {
        "id": "DkLP5onqWrYW",
        "colab_type": "code",
        "colab": {}
      },
      "source": [
        "def costFunction(X,Y,params):\n",
        "  cost = np.sum((np.square((np.matmul(params.T,X)).T - Y))/(2*len(Y)))\n",
        "  return cost"
      ],
      "execution_count": 0,
      "outputs": []
    },
    {
      "cell_type": "code",
      "metadata": {
        "id": "RaKs-6s1oiBK",
        "colab_type": "code",
        "colab": {}
      },
      "source": [
        "def gradientDescent(X,Y,params,learning_rate):\n",
        "  temp0= params[0,0]-learning_rate*np.sum(((np.matmul(params.T,X)).T - Y)*(X[0,:].reshape(100,1))/len(Y))\n",
        "  temp1 =params[1,0]-learning_rate*np.sum(((np.matmul(params.T,X)).T - Y)*(X[1,:].reshape(100,1))/len(Y)) \n",
        "  params = np.array([temp0,temp1]).reshape(2,1)\n",
        "  cost = costFunction(X,Y,params)\n",
        "  return [cost,params]\n",
        "    "
      ],
      "execution_count": 0,
      "outputs": []
    },
    {
      "cell_type": "code",
      "metadata": {
        "id": "6K0IrlgaVSwK",
        "colab_type": "code",
        "colab": {}
      },
      "source": [
        "def start(learning_rate, epoch):\n",
        "  [X,Y] = dataPreparation()\n",
        "  params = np.array([1,2]).reshape(2,1)\n",
        "  cost_array = []\n",
        "  param1 = []\n",
        "  param2 = []\n",
        "  for a in range(epoch):\n",
        "    cost, params = gradientDescent(X,Y,params,learning_rate)\n",
        "    cost_array.append(cost)\n",
        "\n",
        "  plt.plot(range(epoch),cost_array)\n",
        "    \n",
        "  \n",
        " \n",
        "  "
      ],
      "execution_count": 0,
      "outputs": []
    },
    {
      "cell_type": "code",
      "metadata": {
        "id": "drd5On2EZDEC",
        "colab_type": "code",
        "outputId": "c8b72836-cbd2-4329-bca1-cd90c615eb48",
        "colab": {
          "base_uri": "https://localhost:8080/",
          "height": 269
        }
      },
      "source": [
        "start(0.000001,1000)"
      ],
      "execution_count": 33,
      "outputs": [
        {
          "output_type": "display_data",
          "data": {
            "image/png": "[encoded data removed]",
            "text/plain": [
              "<Figure size 432x288 with 1 Axes>"
            ]
          },
          "metadata": {
            "tags": []
          }
        }
      ]
    },
    {
      "cell_type": "code",
      "metadata": {
        "id": "_lfpnoYPeXPR",
        "colab_type": "code",
        "colab": {}
      },
      "source": [
        ""
      ],
      "execution_count": 0,
      "outputs": []
    },
    {
      "cell_type": "code",
      "metadata": {
        "id": "flYW_o8HLI9D",
        "colab_type": "code",
        "colab": {}
      },
      "source": [
        ""
      ],
      "execution_count": 0,
      "outputs": []
    }
  ]
}